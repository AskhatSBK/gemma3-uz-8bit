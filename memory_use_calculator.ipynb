{
 "cells": [
  {
   "cell_type": "code",
   "execution_count": null,
   "id": "140b316a",
   "metadata": {},
   "outputs": [],
   "source": [
    "def estimate_vram_usage(\n",
    "    num_params=27e9,             # Общее количество параметров модели (например, 27B для Gemma 3 27B)\n",
    "    dtype_size=2,                # Размер хранения одного значения параметра (2 байта для fp16/bf16, 1 для 8bit)\n",
    "    optimizer_multiplier=1.0,    # Множитель для состояния оптимизатора:\n",
    "                                 #    - ~4.0 для Adam (fp32)\n",
    "                                 #    - ~2.0 для 8-bit оптимизаторов (AdamW 8bit)\n",
    "    grad_multiplier=0.5,         # Множитель для градиентов:\n",
    "                                 #    - 1.0 для fp16/bf16\n",
    "                                 #    - ~0.5 при использовании 8bit трюков\n",
    "    batch_size=16,               # Размер батча на одно устройство (без учёта градиентного накопления)\n",
    "    seq_len=8192,                # Длина входной последовательности (токенов)\n",
    "    hidden_size=7168,            # Размер скрытого слоя (hidden size)\n",
    "    num_layers=64,               # Количество слоёв трансформера\n",
    "    activation_dtype_size=1,     # Размер хранения одного значения активации (2 байта для fp16/bf16)\n",
    "    gradient_checkpointing=False  # Используется ли градиентный чекпоинтинг (снижает потребление активаций)\n",
    "):\n",
    "    # 💾 Память, занимаемая параметрами модели (только forward веса)\n",
    "    model_memory = num_params * dtype_size\n",
    "\n",
    "    # 💾 Память, занимаемая градиентами (для backward pass)\n",
    "    grad_memory = num_params * dtype_size * grad_multiplier\n",
    "\n",
    "    # 💾 Память, занимаемая состоянием оптимизатора (например, Adam требует хранить момент и variance)\n",
    "    optimizer_memory = num_params * dtype_size * optimizer_multiplier\n",
    "\n",
    "    # 💾 Память на активации (зависит от batch, seq_len, hidden_size, num_layers)\n",
    "    act_memory = batch_size * seq_len * hidden_size * num_layers * activation_dtype_size\n",
    "\n",
    "    # Если включён gradient checkpointing — пересчитываем активации, уменьшая потребление памяти (~65% экономия)\n",
    "    if gradient_checkpointing:\n",
    "        act_memory *= 0.35  # оставляем только 35% памяти на активации\n",
    "\n",
    "    # 🧠 Общая память (в байтах)\n",
    "    total_memory = model_memory + grad_memory + optimizer_memory + act_memory\n",
    "\n",
    "    # 📊 Переводим всё в гигабайты (GB)\n",
    "    return {\n",
    "        \"model_memory_GB\": model_memory / 1e9,\n",
    "        \"grad_memory_GB\": grad_memory / 1e9,\n",
    "        \"optimizer_memory_GB\": optimizer_memory / 1e9,\n",
    "        \"activations_memory_GB\": act_memory / 1e9,\n",
    "        \"total_GB\": total_memory / 1e9\n",
    "    }\n"
   ]
  },
  {
   "cell_type": "code",
   "execution_count": 4,
   "id": "8599967d",
   "metadata": {},
   "outputs": [
    {
     "name": "stdout",
     "output_type": "stream",
     "text": [
      "{'activations_memory_GB': 10.522669875199998,\n",
      " 'grad_memory_GB': 13.5,\n",
      " 'model_memory_GB': 27.0,\n",
      " 'optimizer_memory_GB': 27.0,\n",
      " 'total_GB': 78.0226698752}\n"
     ]
    }
   ],
   "source": [
    "vram = estimate_vram_usage(\n",
    "    num_params=27e9,           # Gemma 3 27B\n",
    "    dtype_size=1,              # 8-bit параметры (например, с BitsAndBytes)\n",
    "    optimizer_multiplier=1.0,  # 8-bit оптимайзер (adamw_8bit)\n",
    "    grad_multiplier=0.5,       # если градиенты хранятся в 8-bit или bf16 trick\n",
    "    batch_size=16,\n",
    "    seq_len=2048,\n",
    "    hidden_size=7168,\n",
    "    num_layers=64,\n",
    "    activation_dtype_size=2,   # fp16/bf16\n",
    "    gradient_checkpointing=True\n",
    ")\n",
    "\n",
    "import pprint\n",
    "pprint.pprint(vram)\n"
   ]
  }
 ],
 "metadata": {
  "kernelspec": {
   "display_name": "shai",
   "language": "python",
   "name": "python3"
  },
  "language_info": {
   "codemirror_mode": {
    "name": "ipython",
    "version": 3
   },
   "file_extension": ".py",
   "mimetype": "text/x-python",
   "name": "python",
   "nbconvert_exporter": "python",
   "pygments_lexer": "ipython3",
   "version": "3.13.2"
  }
 },
 "nbformat": 4,
 "nbformat_minor": 5
}
